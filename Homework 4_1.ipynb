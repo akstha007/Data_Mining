{
 "cells": [
  {
   "cell_type": "markdown",
   "metadata": {},
   "source": [
    "Homework 4, CS 641 "
   ]
  },
  {
   "cell_type": "markdown",
   "metadata": {},
   "source": [
    "First, import data from the file named mnist23.data. Place the file in the running directory of jupyter notebook for simplicity "
   ]
  },
  {
   "cell_type": "code",
   "execution_count": 1,
   "metadata": {},
   "outputs": [],
   "source": [
    "import cloudpickle as pickle\n",
    "mnist23 = pickle.load( open( \"mnist23.data\", \"rb\" ) )"
   ]
  },
  {
   "cell_type": "markdown",
   "metadata": {},
   "source": [
    "then run the following code to view the data"
   ]
  },
  {
   "cell_type": "code",
   "execution_count": 2,
   "metadata": {},
   "outputs": [
    {
     "data": {
      "image/png": "[encoded data removed]",
      "text/plain": [
       "<matplotlib.figure.Figure at 0x106797b38>"
      ]
     },
     "metadata": {},
     "output_type": "display_data"
    }
   ],
   "source": [
    "import numpy as np\n",
    "import matplotlib.pyplot as plt\n",
    "%matplotlib inline\n",
    "\n",
    "plt.figure(figsize=(20,4))\n",
    "for index, (image, label) in enumerate(zip(mnist23.data[500:505], mnist23.target[500:505])):\n",
    "    plt.subplot(1, 5, index + 1)\n",
    "    plt.imshow(np.reshape(image, (28,28)), cmap=plt.cm.gray)\n",
    "    plt.title('Training: %i\\n' % label, fontsize = 20)"
   ]
  },
  {
   "cell_type": "markdown",
   "metadata": {},
   "source": [
    "mnist23 consists of more than ten thousands images of 2s and 3s. You can view the data as follows:"
   ]
  },
  {
   "cell_type": "code",
   "execution_count": 3,
   "metadata": {},
   "outputs": [
    {
     "data": {
      "text/plain": [
       "({'COL_NAMES': ['label', 'data'],\n",
       "  'DESCR': 'mnist23: mnist data 2 and 3',\n",
       "  'data': array([[0, 0, 0, ..., 0, 0, 0],\n",
       "         [0, 0, 0, ..., 0, 0, 0],\n",
       "         [0, 0, 0, ..., 0, 0, 0],\n",
       "         ...,\n",
       "         [0, 0, 0, ..., 0, 0, 0],\n",
       "         [0, 0, 0, ..., 0, 0, 0],\n",
       "         [0, 0, 0, ..., 0, 0, 0]], dtype=uint8),\n",
       "  'target': array([2., 2., 3., ..., 3., 2., 3.])},\n",
       " array([[0, 0, 0, ..., 0, 0, 0],\n",
       "        [0, 0, 0, ..., 0, 0, 0],\n",
       "        [0, 0, 0, ..., 0, 0, 0],\n",
       "        ...,\n",
       "        [0, 0, 0, ..., 0, 0, 0],\n",
       "        [0, 0, 0, ..., 0, 0, 0],\n",
       "        [0, 0, 0, ..., 0, 0, 0]], dtype=uint8),\n",
       " array([2., 2., 3., ..., 3., 2., 3.]),\n",
       " (12111, 784))"
      ]
     },
     "execution_count": 3,
     "metadata": {},
     "output_type": "execute_result"
    }
   ],
   "source": [
    "mnist23,mnist23.data, mnist23.target, mnist23.data.shape\n"
   ]
  },
  {
   "cell_type": "code",
   "execution_count": 4,
   "metadata": {},
   "outputs": [
    {
     "data": {
      "text/plain": [
       "((12111, 784), (12111,))"
      ]
     },
     "execution_count": 4,
     "metadata": {},
     "output_type": "execute_result"
    }
   ],
   "source": [
    "mnist23.data.shape, mnist23.target.shape\n"
   ]
  },
  {
   "cell_type": "markdown",
   "metadata": {},
   "source": [
    "In this homework, you are asked to implement your own binary classifier in jupyter notebook to classify the image. Each image is a 28 by 28 image, which is a row of the above numpy ndarray. So you need to reshape it to 8 by 8 to view an image. Implement in the following. You may want to create a python class for your classifier, with train, validate, predict and some other functions"
   ]
  },
  {
   "cell_type": "code",
   "execution_count": 80,
   "metadata": {},
   "outputs": [],
   "source": [
    "from sklearn.metrics import accuracy_score\n",
    "import numpy as np\n",
    "\n",
    "class KNN(object):\n",
    "\n",
    "    def __init__(self):\n",
    "        pass\n",
    "\n",
    "    def train(self, x, y):\n",
    "        self.X_train = x\n",
    "        self.Y_train = y\n",
    "\n",
    "    def predict(self, X_test, k=1):\n",
    "        y_predict = np.arange(len(X_test), dtype=np.int32).reshape(len(X_test), 1)\n",
    "        distance = np.arange(len(self.X_train), dtype=np.float64).reshape(len(self.X_train), 1)\n",
    "        for i in range(len(X_test)):\n",
    "            distance = np.sqrt(np.sum(np.square(X_test[i] - self.X_train), axis=1))\n",
    "            y = self.Y_train[np.argsort(distance, axis=0)]\n",
    "            unique, counts = np.unique(y[0:k], return_counts=True)\n",
    "            count_dict = dict(zip(unique, counts))\n",
    "            y_predict[i] = max(count_dict, key=count_dict.get)\n",
    "            \n",
    "        return y_predict\n",
    "\n",
    "    def report(self, X_test, y_test, k=1):\n",
    "        predictions= self.predict(X_test,k)\n",
    "        return accuracy_score(y_test, predictions) * 100\n",
    "\n",
    "    def validate(self, X_validate, y_validate):\n",
    "        k_range = 20\n",
    "        accuracy = []\n",
    "        max_accuracy = 0\n",
    "        optimal_k = 1\n",
    "        \n",
    "        for j in range(0,k_range,4):\n",
    "            print(\"Calculating for K-value: {0}\".format(j+1))\n",
    "            result = self.report(X_validate,y_validate, k=j+1)\n",
    "            accuracy.append([result, j+1])\n",
    "            print(\"K-value: {0}, Accuracy: {1}\".format(j+1, result))\n",
    "            if max_accuracy < result:\n",
    "                max_accuracy = result\n",
    "                optimal_k = j+1\n",
    "                \n",
    "        plot_accuracy = list(zip(*accuracy))\n",
    "        plt.plot(list(plot_accuracy[1]), list(plot_accuracy[0]))\n",
    "        plt.xlabel('Hyperparameter K')\n",
    "        plt.ylabel('Accuracy (%)')\n",
    "        plt.title('Model Validating')\n",
    "        plt.show()\n",
    "        \n",
    "        return optimal_k"
   ]
  },
  {
   "cell_type": "markdown",
   "metadata": {},
   "source": [
    "Then, in the following, write a separate function so that when new test data is given, then accuracy can be computed. The function will take the test images (in a matrix of shape (x, 784)), and their labels (in a ndarray of shape(x,), and other parameters as you see fit. The test images are not given to you. \n",
    "Your numeric grade for the howework will be no more than the percentage of the accuracy of your classifier.  "
   ]
  },
  {
   "cell_type": "code",
   "execution_count": 81,
   "metadata": {},
   "outputs": [
    {
     "name": "stdout",
     "output_type": "stream",
     "text": [
      "Start training ...\n",
      "End training ...\n",
      "Start validating ...\n",
      "Calculating for K-value: 1\n",
      "K-value: 1, Accuracy: 98.5962014863749\n",
      "Calculating for K-value: 5\n",
      "K-value: 5, Accuracy: 98.80264244426094\n",
      "Calculating for K-value: 9\n",
      "K-value: 9, Accuracy: 98.43104872006606\n",
      "Calculating for K-value: 13\n",
      "K-value: 13, Accuracy: 98.43104872006606\n",
      "Calculating for K-value: 17\n",
      "K-value: 17, Accuracy: 98.51362510322048\n"
     ]
    },
    {
     "data": {
      "image/png": "[encoded data removed]",
      "text/plain": [
       "<matplotlib.figure.Figure at 0x1a0f74e3c8>"
      ]
     },
     "metadata": {},
     "output_type": "display_data"
    },
    {
     "name": "stdout",
     "output_type": "stream",
     "text": [
      "Optimal K: 5\n",
      "End validating ...\n",
      "Start testing ... \n",
      "End testing ...\n",
      "Accuracy: 98.43 %\n"
     ]
    }
   ],
   "source": [
    "from sklearn.model_selection import train_test_split\n",
    "\n",
    "train_img, test_img, train_lbl, test_lbl = train_test_split(mnist23['data'],mnist23['target'],test_size=0.20, random_state = 0)\n",
    "train_img, valid_img, train_lbl, valid_lbl = train_test_split(train_img, train_lbl, test_size=0.25, random_state = 0)\n",
    "\n",
    "# ------------------------- Modifying image size (PCA) -----------------------\n",
    "\n",
    "from skimage import img_as_float\n",
    "train_img = img_as_float(train_img)\n",
    "valid_img = img_as_float(valid_img)\n",
    "\n",
    "from sklearn.preprocessing import StandardScaler\n",
    "scaler = StandardScaler()\n",
    "\n",
    "# Fit on training set only.\n",
    "scaler.fit(train_img)\n",
    "\n",
    "# Apply transform to both the training set and the test set.\n",
    "train_img = scaler.transform(train_img)\n",
    "valid_img = scaler.transform(valid_img)\n",
    "\n",
    "from sklearn.decomposition import PCA\n",
    "\n",
    "# Make an instance of the Model\n",
    "pca = PCA(.85)\n",
    "pca.fit(train_img)\n",
    "train_img = pca.transform(train_img)\n",
    "valid_img = pca.transform(valid_img)\n",
    "\n",
    "#------------------------------ end PCA --------------------------------\n",
    "\n",
    "def binaryClassify(test_img, test_lbl):\n",
    "    \n",
    "    #----------- PCA test imgage --------------\n",
    "    test_img = img_as_float(test_img)\n",
    "    test_img = scaler.transform(test_img)\n",
    "    test_img = pca.transform(test_img)\n",
    "    #-------------- PCA end -------------------\n",
    "    \n",
    "    a = KNN()\n",
    "    print(\"Start training ...\")\n",
    "    a.train(train_img, train_lbl)\n",
    "    print(\"End training ...\")\n",
    "    print(\"Start validating ...\")\n",
    "    k = a.validate(valid_img, valid_lbl)\n",
    "    #k = 5\n",
    "    print(\"Optimal K: {0}\".format(k))\n",
    "    print(\"End validating ...\")\n",
    "    print(\"Start testing ... \")\n",
    "    accuracy = a.report(test_img, test_lbl, k)\n",
    "    print(\"End testing ...\")\n",
    "    print(\"Accuracy: {0:.2f} %\".format(accuracy))\n",
    "    \n",
    "\n",
    "binaryClassify(test_img, test_lbl)\n"
   ]
  },
  {
   "cell_type": "code",
   "execution_count": null,
   "metadata": {},
   "outputs": [],
   "source": []
  },
  {
   "cell_type": "code",
   "execution_count": null,
   "metadata": {},
   "outputs": [],
   "source": []
  }
 ],
 "metadata": {
  "kernelspec": {
   "display_name": "Python 3",
   "language": "python",
   "name": "python3"
  },
  "language_info": {
   "codemirror_mode": {
    "name": "ipython",
    "version": 3
   },
   "file_extension": ".py",
   "mimetype": "text/x-python",
   "name": "python",
   "nbconvert_exporter": "python",
   "pygments_lexer": "ipython3",
   "version": "3.6.4"
  }
 },
 "nbformat": 4,
 "nbformat_minor": 2
}
